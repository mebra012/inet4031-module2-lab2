{
 "cells": [
  {
   "cell_type": "code",
   "execution_count": 4,
   "id": "eee7f6ac-b178-450b-9650-69da0f2169b7",
   "metadata": {},
   "outputs": [
    {
     "name": "stdout",
     "output_type": "stream",
     "text": [
      "\n",
      "list-of-users was read.\n"
     ]
    },
    {
     "name": "stdin",
     "output_type": "stream",
     "text": [
      "\n",
      "Do you want to print out the list of users? (Y or N)  Y\n"
     ]
    },
    {
     "name": "stdout",
     "output_type": "stream",
     "text": [
      "\n",
      " dwash1:abc123:Washington:Denzel:administrators\n",
      "\n",
      " brpit2:abc123:Pitt:Brad:users\n",
      "\n",
      " tcook1:abc123:Tim:Cook:managers\n",
      "\n",
      " byonce:abc123:Knowles-Carter:Beyonce:administrators,queens\n",
      "\n",
      "End of User Processing\n",
      "\n"
     ]
    }
   ],
   "source": [
    "# Open the user list file\n",
    "try:\n",
    "    userFile = open(\"list-of-users.txt\", \"r\")  # Fixed filename spelling\n",
    "except:\n",
    "    print(\"\\nCould not read the file specified.\\n\")\n",
    "    exit()\n",
    "\n",
    "# Load the lines of the file into a list\n",
    "listOfUsers = userFile.readlines()\n",
    "print(\"\\nlist-of-users was read.\")\n",
    "\n",
    "# Ask the user to proceed\n",
    "answer = input(\"\\nDo you want to print out the list of users? (Y or N) \")\n",
    "\n",
    "if answer.lower() == \"y\":  # Simplified case check\n",
    "    for userline in listOfUsers:\n",
    "        print(\"\\n\", userline.strip())  # Strip newlines for cleaner output\n",
    "else:\n",
    "    print(\"\\nOk not printing, ending program.\")\n",
    "\n",
    "print(\"\\nEnd of User Processing\\n\")"
   ]
  },
  {
   "cell_type": "code",
   "execution_count": null,
   "id": "e29f5716-aa22-44c8-999f-731cf16e4028",
   "metadata": {},
   "outputs": [],
   "source": []
  }
 ],
 "metadata": {
  "kernelspec": {
   "display_name": "Python 3 (ipykernel)",
   "language": "python",
   "name": "python3"
  },
  "language_info": {
   "codemirror_mode": {
    "name": "ipython",
    "version": 3
   },
   "file_extension": ".py",
   "mimetype": "text/x-python",
   "name": "python",
   "nbconvert_exporter": "python",
   "pygments_lexer": "ipython3",
   "version": "3.13.1"
  }
 },
 "nbformat": 4,
 "nbformat_minor": 5
}
